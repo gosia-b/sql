{
 "cells": [
  {
   "cell_type": "code",
   "execution_count": 1,
   "id": "79330833",
   "metadata": {},
   "outputs": [],
   "source": [
    "from mysql.connector import connect, Error\n",
    "\n",
    "from credentials import USER, PASSWORD"
   ]
  },
  {
   "cell_type": "code",
   "execution_count": 2,
   "id": "bfa82772",
   "metadata": {},
   "outputs": [],
   "source": [
    "DATABASE = \"online_movie_rating\""
   ]
  },
  {
   "cell_type": "markdown",
   "id": "312d2c35",
   "metadata": {},
   "source": [
    "# Connect to your MySQL server & check what databases already exist"
   ]
  },
  {
   "cell_type": "code",
   "execution_count": 3,
   "id": "e6276498",
   "metadata": {},
   "outputs": [
    {
     "name": "stdout",
     "output_type": "stream",
     "text": [
      "('information_schema',)\n",
      "('mysql',)\n",
      "('online_movie_rating',)\n",
      "('performance_schema',)\n",
      "('sys',)\n"
     ]
    }
   ],
   "source": [
    "show_db_query = \"SHOW DATABASES\"\n",
    "\n",
    "with connect(host=\"localhost\", user=USER, password=PASSWORD) as connection:\n",
    "    with connection.cursor() as cursor:\n",
    "        cursor.execute(show_db_query)\n",
    "        for db in cursor:\n",
    "            print(db)"
   ]
  },
  {
   "cell_type": "markdown",
   "id": "39acf717",
   "metadata": {},
   "source": [
    "# Create database"
   ]
  },
  {
   "cell_type": "code",
   "execution_count": 4,
   "id": "b278f4ee",
   "metadata": {},
   "outputs": [],
   "source": [
    "create_db_query = f\"CREATE DATABASE IF NOT EXISTS {DATABASE}\"\n",
    "\n",
    "with connect(host=\"localhost\", user=USER, password=PASSWORD) as connection:\n",
    "    with connection.cursor() as cursor:\n",
    "        cursor.execute(create_db_query)"
   ]
  },
  {
   "cell_type": "markdown",
   "id": "bd1b2de5",
   "metadata": {},
   "source": [
    "# Create table"
   ]
  },
  {
   "cell_type": "code",
   "execution_count": 5,
   "id": "53b0e1be",
   "metadata": {},
   "outputs": [],
   "source": [
    "# Now connection has an additional \"database\" argument!\n",
    "connection = connect(host=\"localhost\", user=USER, password=PASSWORD, database=DATABASE)"
   ]
  },
  {
   "cell_type": "code",
   "execution_count": 6,
   "id": "2790e07c",
   "metadata": {},
   "outputs": [],
   "source": [
    "create_movies_table_query = \"\"\"\n",
    "CREATE TABLE IF NOT EXISTS movies(\n",
    "    id INT AUTO_INCREMENT PRIMARY KEY,\n",
    "    title VARCHAR(100),\n",
    "    release_year YEAR(4),\n",
    "    genre VARCHAR(100),\n",
    "    collection_in_mil INT\n",
    ")\n",
    "\"\"\"\n",
    "\n",
    "with connection.cursor() as cursor:\n",
    "    cursor.execute(create_movies_table_query)\n",
    "    connection.commit()"
   ]
  },
  {
   "cell_type": "markdown",
   "id": "052f5094",
   "metadata": {},
   "source": [
    "# Insert movies data"
   ]
  },
  {
   "cell_type": "code",
   "execution_count": 7,
   "id": "d6300baa",
   "metadata": {},
   "outputs": [],
   "source": [
    "insert_movies_query = \"\"\"\n",
    "INSERT INTO movies (title, release_year, genre, collection_in_mil)\n",
    "VALUES\n",
    "    (\"Forrest Gump\", 1994, \"Drama\", 330.2),\n",
    "    (\"3 Idiots\", 2009, \"Drama\", 2.4),\n",
    "    (\"Eternal Sunshine of the Spotless Mind\", 2004, \"Drama\", 34.5),\n",
    "    (\"Good Will Hunting\", 1997, \"Drama\", 138.1),\n",
    "    (\"Skyfall\", 2012, \"Action\", 304.6),\n",
    "    (\"Gladiator\", 2000, \"Action\", 188.7),\n",
    "    (\"Black\", 2005, \"Drama\", 3.0),\n",
    "    (\"Titanic\", 1997, \"Romance\", 659.2),\n",
    "    (\"The Shawshank Redemption\", 1994, \"Drama\",28.4),\n",
    "    (\"Udaan\", 2010, \"Drama\", 1.5),\n",
    "    (\"Home Alone\", 1990, \"Comedy\", 286.9),\n",
    "    (\"Casablanca\", 1942, \"Romance\", 1.0),\n",
    "    (\"Avengers: Endgame\", 2019, \"Action\", 858.8),\n",
    "    (\"Night of the Living Dead\", 1968, \"Horror\", 2.5),\n",
    "    (\"The Godfather\", 1972, \"Crime\", 135.6),\n",
    "    (\"Haider\", 2014, \"Action\", 4.2),\n",
    "    (\"Inception\", 2010, \"Adventure\", 293.7),\n",
    "    (\"Evil\", 2003, \"Horror\", 1.3),\n",
    "    (\"Toy Story 4\", 2019, \"Animation\", 434.9),\n",
    "    (\"Air Force One\", 1997, \"Drama\", 138.1),\n",
    "    (\"The Dark Knight\", 2008, \"Action\",535.4),\n",
    "    (\"Bhaag Milkha Bhaag\", 2013, \"Sport\", 4.1),\n",
    "    (\"The Lion King\", 1994, \"Animation\", 423.6),\n",
    "    (\"Pulp Fiction\", 1994, \"Crime\", 108.8),\n",
    "    (\"Kai Po Che\", 2013, \"Sport\", 6.0),\n",
    "    (\"Beasts of No Nation\", 2015, \"War\", 1.4),\n",
    "    (\"Andadhun\", 2018, \"Thriller\", 2.9),\n",
    "    (\"The Silence of the Lambs\", 1991, \"Crime\", 68.2),\n",
    "    (\"Deadpool\", 2016, \"Action\", 363.6),\n",
    "    (\"Drishyam\", 2015, \"Mystery\", 3.0)\n",
    "\"\"\"\n",
    "\n",
    "with connection.cursor() as cursor:\n",
    "    cursor.execute(insert_movies_query)\n",
    "    connection.commit()"
   ]
  },
  {
   "cell_type": "markdown",
   "id": "8ad025fb",
   "metadata": {},
   "source": [
    "# Read movies data"
   ]
  },
  {
   "cell_type": "code",
   "execution_count": 8,
   "id": "59d21d7a",
   "metadata": {},
   "outputs": [
    {
     "name": "stdout",
     "output_type": "stream",
     "text": [
      "(1, 'Forrest Gump', 1994, 'Drama', 330)\n",
      "(2, '3 Idiots', 2009, 'Drama', 2)\n",
      "(3, 'Eternal Sunshine of the Spotless Mind', 2004, 'Drama', 35)\n",
      "(4, 'Good Will Hunting', 1997, 'Drama', 138)\n",
      "(5, 'Skyfall', 2012, 'Action', 305)\n"
     ]
    }
   ],
   "source": [
    "select_movies_query = \"SELECT * FROM movies LIMIT 5\"\n",
    "\n",
    "with connection.cursor() as cursor:\n",
    "    cursor.execute(select_movies_query)\n",
    "    result = cursor.fetchall()\n",
    "    for row in result:\n",
    "        print(row)"
   ]
  },
  {
   "cell_type": "code",
   "execution_count": 9,
   "id": "658b9791",
   "metadata": {},
   "outputs": [],
   "source": [
    "connection.close()"
   ]
  },
  {
   "cell_type": "code",
   "execution_count": null,
   "id": "0ec03083",
   "metadata": {},
   "outputs": [],
   "source": []
  }
 ],
 "metadata": {
  "kernelspec": {
   "display_name": "Python 3 (ipykernel)",
   "language": "python",
   "name": "python3"
  },
  "language_info": {
   "codemirror_mode": {
    "name": "ipython",
    "version": 3
   },
   "file_extension": ".py",
   "mimetype": "text/x-python",
   "name": "python",
   "nbconvert_exporter": "python",
   "pygments_lexer": "ipython3",
   "version": "3.9.7"
  }
 },
 "nbformat": 4,
 "nbformat_minor": 5
}
